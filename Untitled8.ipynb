{
  "nbformat": 4,
  "nbformat_minor": 0,
  "metadata": {
    "colab": {
      "name": "Untitled8.ipynb",
      "provenance": [],
      "authorship_tag": "ABX9TyMhQVUPjFDyitW0Cdtq6O40",
      "include_colab_link": true
    },
    "kernelspec": {
      "name": "python3",
      "display_name": "Python 3"
    }
  },
  "cells": [
    {
      "cell_type": "markdown",
      "metadata": {
        "id": "view-in-github",
        "colab_type": "text"
      },
      "source": [
        "<a href=\"https://colab.research.google.com/github/Singhady01/assessment/blob/master/Untitled8.ipynb\" target=\"_parent\"><img src=\"https://colab.research.google.com/assets/colab-badge.svg\" alt=\"Open In Colab\"/></a>"
      ]
    },
    {
      "cell_type": "code",
      "metadata": {
        "colab": {
          "base_uri": "https://localhost:8080/"
        },
        "id": "rJ7LnpwZtLcf",
        "outputId": "cbe2b90a-760a-4820-b002-5d39038ca86c"
      },
      "source": [
        "def my_function(x):\r\n",
        "  return x[::-1]\r\n",
        "\r\n",
        "mytxt = my_function(\"Muskan Aaditya Singh\")\r\n",
        "\r\n",
        "print(mytxt)\r\n"
      ],
      "execution_count": 1,
      "outputs": [
        {
          "output_type": "stream",
          "text": [
            "hgniS aytidaA naksuM\n"
          ],
          "name": "stdout"
        }
      ]
    }
  ]
}